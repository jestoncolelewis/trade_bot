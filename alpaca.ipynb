{
 "cells": [
  {
   "cell_type": "code",
   "execution_count": 1,
   "metadata": {},
   "outputs": [],
   "source": [
    "import requests\n",
    "import json\n",
    "import numpy as np\n",
    "from keys import *\n",
    "import os\n",
    "import torch\n",
    "import cv2 as cv"
   ]
  },
  {
   "cell_type": "code",
   "execution_count": 2,
   "metadata": {},
   "outputs": [],
   "source": [
    "from alpaca.data.historical import StockHistoricalDataClient # type: ignore\n",
    "from alpaca.data.requests import StockTradesRequest\n",
    "from alpaca.data.timeframe import TimeFrame\n",
    "from datetime import datetime\n",
    "\n",
    "# keys required\n",
    "stock_client = StockHistoricalDataClient(al_paper_ak,  al_paper_sk)"
   ]
  },
  {
   "cell_type": "code",
   "execution_count": 3,
   "metadata": {},
   "outputs": [
    {
     "ename": "NameError",
     "evalue": "name 'r_data' is not defined",
     "output_type": "error",
     "traceback": [
      "\u001b[0;31m---------------------------------------------------------------------------\u001b[0m",
      "\u001b[0;31mNameError\u001b[0m                                 Traceback (most recent call last)",
      "Cell \u001b[0;32mIn[3], line 2\u001b[0m\n\u001b[1;32m      1\u001b[0m history \u001b[39m=\u001b[39m []\n\u001b[0;32m----> 2\u001b[0m \u001b[39mfor\u001b[39;00m d \u001b[39min\u001b[39;00m r_data:\n\u001b[1;32m      3\u001b[0m     \u001b[39mtry\u001b[39;00m:\n\u001b[1;32m      4\u001b[0m         request_params \u001b[39m=\u001b[39m StockTradesRequest(\n\u001b[1;32m      5\u001b[0m             symbol_or_symbols\u001b[39m=\u001b[39md[\u001b[39m'\u001b[39m\u001b[39msymbol\u001b[39m\u001b[39m'\u001b[39m],\n\u001b[1;32m      6\u001b[0m             start\u001b[39m=\u001b[39mdatetime(\u001b[39m2022\u001b[39m,\u001b[39m12\u001b[39m,\u001b[39m29\u001b[39m),\n\u001b[1;32m      7\u001b[0m             end\u001b[39m=\u001b[39mdatetime(\u001b[39m2022\u001b[39m,\u001b[39m12\u001b[39m,\u001b[39m31\u001b[39m),\n\u001b[1;32m      8\u001b[0m             limit\u001b[39m=\u001b[39m\u001b[39m1\u001b[39m\n\u001b[1;32m      9\u001b[0m             ) \u001b[39m# type: ignore\u001b[39;00m\n",
      "\u001b[0;31mNameError\u001b[0m: name 'r_data' is not defined"
     ]
    }
   ],
   "source": [
    "history = []\n",
    "for d in r_data:\n",
    "    try:\n",
    "        request_params = StockTradesRequest(\n",
    "            symbol_or_symbols=d['symbol'],\n",
    "            start=datetime(2022,12,29),\n",
    "            end=datetime(2022,12,31),\n",
    "            limit=1\n",
    "            ) # type: ignore\n",
    "        \n",
    "        history.append(stock_client.get_stock_trades(request_params))\n",
    "    except AttributeError as err:\n",
    "        print(err)\n",
    "    except KeyError as err:\n",
    "        print(err)\n"
   ]
  },
  {
   "cell_type": "code",
   "execution_count": null,
   "metadata": {},
   "outputs": [],
   "source": [
    "history[0]"
   ]
  }
 ],
 "metadata": {
  "kernelspec": {
   "display_name": "Python 3",
   "language": "python",
   "name": "python3"
  },
  "language_info": {
   "codemirror_mode": {
    "name": "ipython",
    "version": 3
   },
   "file_extension": ".py",
   "mimetype": "text/x-python",
   "name": "python",
   "nbconvert_exporter": "python",
   "pygments_lexer": "ipython3",
   "version": "3.9.16"
  },
  "orig_nbformat": 4
 },
 "nbformat": 4,
 "nbformat_minor": 2
}

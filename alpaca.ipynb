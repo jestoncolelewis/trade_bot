{
 "cells": [
  {
   "cell_type": "code",
   "execution_count": 1,
   "metadata": {},
   "outputs": [],
   "source": [
    "from keys import *\n",
    "from data_in import reddit\n",
    "from alpaca.data.historical import StockHistoricalDataClient # type: ignore\n",
    "from alpaca.data.requests import StockTradesRequest\n",
    "from datetime import datetime"
   ]
  },
  {
   "cell_type": "code",
   "execution_count": 2,
   "metadata": {},
   "outputs": [],
   "source": [
    "# keys required\n",
    "stock_client = StockHistoricalDataClient(al_paper_ak,  al_paper_sk)"
   ]
  },
  {
   "cell_type": "code",
   "execution_count": 3,
   "metadata": {},
   "outputs": [
    {
     "name": "stdout",
     "output_type": "stream",
     "text": [
      "'NoneType' object has no attribute 'items'\n",
      "'NoneType' object has no attribute 'items'\n"
     ]
    }
   ],
   "source": [
    "r_data = reddit()\n",
    "\n",
    "history = []\n",
    "for d in r_data:\n",
    "    try:\n",
    "        request_params = StockTradesRequest(\n",
    "            symbol_or_symbols=d['symbol'],\n",
    "            start=datetime(2022,12,29),\n",
    "            end=datetime(2022,12,31),\n",
    "            limit=1\n",
    "            ) # type: ignore\n",
    "        \n",
    "        history.append(stock_client.get_stock_trades(request_params))\n",
    "    except AttributeError as err:\n",
    "        print(err)\n",
    "    except KeyError as err:\n",
    "        print(err)\n"
   ]
  },
  {
   "cell_type": "code",
   "execution_count": 4,
   "metadata": {},
   "outputs": [
    {
     "data": {
      "text/plain": [
       "{   'NVDA': [   {   'conditions': ['@', 'T', 'I'],\n",
       "                    'exchange': 'D',\n",
       "                    'id': 103100,\n",
       "                    'price': 140.43,\n",
       "                    'size': 2.0,\n",
       "                    'symbol': 'NVDA',\n",
       "                    'tape': 'C',\n",
       "                    'timestamp': datetime.datetime(2022, 12, 29, 0, 0, 2, 38672, tzinfo=datetime.timezone.utc)}]}"
      ]
     },
     "execution_count": 4,
     "metadata": {},
     "output_type": "execute_result"
    }
   ],
   "source": [
    "history[0]"
   ]
  }
 ],
 "metadata": {
  "kernelspec": {
   "display_name": "Python 3",
   "language": "python",
   "name": "python3"
  },
  "language_info": {
   "codemirror_mode": {
    "name": "ipython",
    "version": 3
   },
   "file_extension": ".py",
   "mimetype": "text/x-python",
   "name": "python",
   "nbconvert_exporter": "python",
   "pygments_lexer": "ipython3",
   "version": "3.9.16"
  },
  "orig_nbformat": 4
 },
 "nbformat": 4,
 "nbformat_minor": 2
}
